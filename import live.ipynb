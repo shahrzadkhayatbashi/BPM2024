{
 "cells": [
  {
   "cell_type": "markdown",
   "id": "490ede86-4695-4efd-a68e-c06ab0c9f938",
   "metadata": {},
   "source": [
    "# Introduction\n",
    "This notebook contains the code enabling transformation of an OCEL 2.0 log file to tEKG in live mode."
   ]
  },
  {
   "cell_type": "code",
   "execution_count": 1,
   "id": "104206b1-59f6-49e0-bb84-2208149cf28e",
   "metadata": {},
   "outputs": [],
   "source": [
    "import time"
   ]
  },
  {
   "cell_type": "code",
   "execution_count": 2,
   "id": "605e933a-4cc1-49fd-a0e1-ca3bb94a82c3",
   "metadata": {},
   "outputs": [],
   "source": [
    "import pm4py\n",
    "import pandas as pd\n",
    "import numpy as np\n",
    "from datetime import datetime\n",
    "from itertools import product\n",
    "from neo4j import GraphDatabase"
   ]
  },
  {
   "cell_type": "markdown",
   "id": "44010496-6fa4-48d9-95f1-e6cc6877b7a1",
   "metadata": {},
   "source": [
    "# Setup \n",
    "This section sets the initial variables and sets the environment."
   ]
  },
  {
   "cell_type": "code",
   "execution_count": 3,
   "id": "bce2b0dd-5b3e-4086-ba57-bbd6631e7595",
   "metadata": {},
   "outputs": [],
   "source": [
    "# The notebook is set to transform the running example. \n",
    "# To transform other logs, you only need to set the log name properly using the experiment_name variable. It works if the log is in jsonocel format. \n",
    "# If your log is in another format, please refine the file_path variable. In this case, you also need to modify the pm4py.read.read_ocel2_json function in the next block to use the correct PM4Py function to read the correct format.\n",
    "\n",
    "experiment_name = 'runningExample-course'\n",
    "file_path = './ocel2/'+experiment_name+'.jsonocel'\n",
    "experiment_path = './experiments/live_'+experiment_name+'.json'"
   ]
  },
  {
   "cell_type": "code",
   "execution_count": 4,
   "id": "86829db6-0f18-43b8-abb1-4694cd4b32eb",
   "metadata": {},
   "outputs": [],
   "source": [
    "# legend\n",
    "# -------------------------------------------------------------------------------------------------\n",
    "# Any number corresponds to the algorithm 1 line number in the paper\n",
    "# The section within [] is within the loop given by the number before the open bracket.\n",
    "# The section within () is within the if statement given by the number before the open parenthesis.\n",
    "\n",
    "lbl_log = 'LOG'\n",
    "lbl_class = 'CLASS'\n",
    "lbl_event = 'EVENT'\n",
    "lbl_entity =  'ENTITY'\n",
    "lbl_snapshot = 'SNAPSHOT'\n",
    "lbl_derived = 'DERIVED'\n",
    "lbl_has = 'HAS'\n",
    "lbl_observed = 'OBSERVED'\n",
    "lbl_rel = 'REL'\n",
    "lbl_corr='CORR'\n",
    "lbl_df = 'DF'\n",
    "\n",
    "lbl_meta_node_log = 'node:Log'  # lines 4-6\n",
    "lbl_meta_node_class = 'node:Class' # lines 7-9\n",
    "lbl_meta_node_event = 'node:Event' # lines 10[11-12]\n",
    "lbl_meta_node_entity = 'node:Entity' # lines 15[16-17]\n",
    "lbl_meta_node_snapshot = 'node:Snapshot' # lines 15[18,19[20-21]]\n",
    "\n",
    "# lbl_meta_node_reified = 'node:Reified' # lines 34[35-37] includes the two following\n",
    "lbl_meta_node_entity_reified = 'node:Reified_Entity' \n",
    "lbl_meta_node_snapshot_reified = 'node:Reified_Snapshot'\n",
    "\n",
    "lbl_meta_rel_log_has_event = 'rel:has' #lines 10[13]\n",
    "lbl_meta_rel_event_observed_class = 'rel:observed' #lines 10[14]\n",
    "lbl_meta_rel_entity_snapshot_snapshot = 'rel:snapshot'  # lines 15[18,19[22]]\n",
    "lbl_meta_rel_snapshot_rel_update_snapshot = 'rel:rel:SnapshotUpdate'  # lines 15[18,23[24(25)]]\n",
    "lbl_meta_rel_entity_rel_entity = 'rel:rel:Entity' # lines 27[28]\n",
    "lbl_meta_rel_snapshot_rel_snapshot = 'rel:rel:Snapshot' # lines 27[29[30,31[32(33)]]]\n",
    "\n",
    "lbl_meta_rel_derived = 'rel:derived' # lines 34[38-39]\n",
    "\n",
    "\n",
    "lbl_meta_rel_event_corr = 'rel:corr' # \n",
    "lbl_meta_rel_event_corr_entity = 'rel:corr:Entity' # lines 40[41]\n",
    "lbl_meta_rel_event_corr_entity_reified = 'rel:corr:ReifiedEntity' # lines 40[42[43]]\n",
    "\n",
    "lbl_meta_rel_event_corr_snapshot  = 'rel:corr:Snapshot' # lines 40[44,45[46(47)]]\n",
    "lbl_meta_rel_event_corr_snapshot_reified  ='rel:corr:ReifiedSnapshot' # lines 40[44,45[46(48[49])]]\n",
    "\n",
    "lbl_meta_rel_event_df_entity_event  ='rel_Event-df[entity]->Event'\n",
    "lbl_meta_rel_event_df_snapshot_event  ='rel_Event-df[snapshot]->Event'\n",
    "lbl_meta_rel_event_df_event='rel:df' # line 50"
   ]
  },
  {
   "cell_type": "code",
   "execution_count": 5,
   "id": "8e27c81d-acf3-44bb-83ba-84aff4cdbe31",
   "metadata": {},
   "outputs": [],
   "source": [
    "meta_time = {}"
   ]
  },
  {
   "cell_type": "code",
   "execution_count": 6,
   "id": "9f399a84-defd-4290-b3ff-c529974da534",
   "metadata": {},
   "outputs": [],
   "source": [
    "URI  = 'bolt://localhost:7687'\n",
    "AUTH = ('neo4j', '1234')"
   ]
  },
  {
   "cell_type": "code",
   "execution_count": 7,
   "id": "1ccd8cf7-651f-4020-a7b0-9880eb05fbe5",
   "metadata": {},
   "outputs": [],
   "source": [
    "with GraphDatabase.driver(URI, auth=AUTH) as driver:\n",
    "    driver.verify_connectivity()"
   ]
  },
  {
   "cell_type": "code",
   "execution_count": 8,
   "id": "b2c11149-ae59-4c06-a1b0-36a9c7bae385",
   "metadata": {},
   "outputs": [],
   "source": [
    "ocel = pm4py.read.read_ocel2_json(file_path)"
   ]
  },
  {
   "cell_type": "code",
   "execution_count": 9,
   "id": "7163b9d8-ba56-4c3a-970b-746e1e947fff",
   "metadata": {},
   "outputs": [],
   "source": [
    "## reset\n",
    "with GraphDatabase.driver(URI, auth=AUTH) as driver:\n",
    "    driver.execute_query('MATCH (a) DETACH DELETE a')"
   ]
  },
  {
   "cell_type": "markdown",
   "id": "4bf0148f-c34e-4f08-a965-75e98682ac9a",
   "metadata": {},
   "source": [
    "# Log node\n",
    "This section adds a node to tEKG for the log."
   ]
  },
  {
   "cell_type": "code",
   "execution_count": 10,
   "id": "2c4d90cd-24b0-4802-8ffe-b310c0a17c9b",
   "metadata": {},
   "outputs": [
    {
     "name": "stdout",
     "output_type": "stream",
     "text": [
      "0.13913440704345703\n"
     ]
    }
   ],
   "source": [
    "action = lbl_meta_node_log\n",
    "start = time.time()\n",
    "\n",
    "with GraphDatabase.driver(URI, auth=AUTH) as driver:\n",
    "    driver.execute_query('CREATE (:'+lbl_log+')')\n",
    "\n",
    "end = time.time()\n",
    "print(end - start)\n",
    "\n",
    "meta_time[action] =  end - start"
   ]
  },
  {
   "cell_type": "markdown",
   "id": "5eb007a9-2cdd-46ef-bd72-d25a22a8ffb5",
   "metadata": {},
   "source": [
    "# Class nodes\n",
    "This section adds nodes to tEKG for classes representing event types in OCEL."
   ]
  },
  {
   "cell_type": "code",
   "execution_count": 11,
   "id": "741351a4-c849-41d0-bcd2-8f7bf77ae3e3",
   "metadata": {},
   "outputs": [
    {
     "name": "stdout",
     "output_type": "stream",
     "text": [
      "0.11440849304199219\n"
     ]
    }
   ],
   "source": [
    "action = lbl_meta_node_class\n",
    "start = time.time()\n",
    "\n",
    "with GraphDatabase.driver(URI, auth=AUTH) as driver:\n",
    "    for c in ocel.events[ocel.event_activity].unique():\n",
    "        driver.execute_query(\"CREATE (:\"+lbl_class+\" {ID: '\"+c+\"'})\")\n",
    "\n",
    "end = time.time()\n",
    "print(end - start)\n",
    "meta_time[action] =  end - start"
   ]
  },
  {
   "cell_type": "markdown",
   "id": "4f9c345c-58a6-4d1c-b7b9-40b02c252057",
   "metadata": {},
   "source": [
    "# Event nodes\n",
    "This section adds nodes to tEKG for events corresponding to events in OCEL."
   ]
  },
  {
   "cell_type": "code",
   "execution_count": 12,
   "id": "57aa5ea6-d237-468a-ad01-f1d2a49328de",
   "metadata": {},
   "outputs": [
    {
     "name": "stdout",
     "output_type": "stream",
     "text": [
      "0.13113856315612793\n"
     ]
    }
   ],
   "source": [
    "action = lbl_meta_node_event\n",
    "start = time.time()\n",
    "\n",
    "\n",
    "with GraphDatabase.driver(URI, auth=AUTH) as driver:\n",
    "    for idx, row in ocel.events.iterrows():\n",
    "        driver.execute_query(\"CREATE (:\"+lbl_event+\" {EventID: '\"+\n",
    "            row[ocel.event_id_column]+\n",
    "            \"', timestamp: datetime('\"+\n",
    "            str(row[ocel.event_timestamp].strftime('%Y-%m-%dT%H:%M')+':00.000+0100')+\n",
    "            \"'), Activity:'\"+\n",
    "            row[ocel.event_activity]+\n",
    "            \"'})\")\n",
    "\n",
    "end = time.time()\n",
    "print(end - start)\n",
    "meta_time[action] =  end - start"
   ]
  },
  {
   "cell_type": "markdown",
   "id": "f5c2e13f-3502-491c-8ea4-5c9fbdf4369e",
   "metadata": {},
   "source": [
    "# Entity nodes\n",
    "This section adds nodes to tEKG for entities corresponding to objects in OCEL."
   ]
  },
  {
   "cell_type": "code",
   "execution_count": 13,
   "id": "ae30dd04-faeb-4c8c-86e4-279270c97115",
   "metadata": {},
   "outputs": [
    {
     "name": "stdout",
     "output_type": "stream",
     "text": [
      "0.053876638412475586\n"
     ]
    }
   ],
   "source": [
    "action = lbl_meta_node_entity\n",
    "start = time.time()\n",
    "\n",
    "cols = list(ocel.objects.columns)\n",
    "def map(n):\n",
    "    return '`'+n.replace(ocel.object_id_column, \"ID\").replace(ocel.object_type_column, \"EntityType\")+'`'\n",
    "\n",
    "with GraphDatabase.driver(URI, auth=AUTH) as driver:\n",
    "    for idx, rows in ocel.objects.fillna('').iterrows():\n",
    "            atts = [map(c)+\":'\"+str(rows[c])+\"'\" for c in cols]\n",
    "            res = \"\"\n",
    "            for a in atts:\n",
    "                res = res + a + \", \"\n",
    "        \n",
    "                \n",
    "            driver.execute_query(\"CREATE (:\"+lbl_entity+\" {\"+\n",
    "                  res[:-2] +\n",
    "                 \"})\"\n",
    "                 )\n",
    "        \n",
    "end = time.time()\n",
    "print(end - start)\n",
    "meta_time[action] =  end - start"
   ]
  },
  {
   "cell_type": "markdown",
   "id": "1c89c25d-dc18-422b-8619-937db6a77889",
   "metadata": {},
   "source": [
    "# Snapshot nodes\n",
    "This section adds nodes to tEKG for snapshots that materialize OCEL objects when their value has changed."
   ]
  },
  {
   "cell_type": "code",
   "execution_count": 14,
   "id": "c2f6ea99-cd2e-434b-9e97-d56fac041348",
   "metadata": {},
   "outputs": [
    {
     "name": "stdout",
     "output_type": "stream",
     "text": [
      "0.4860105514526367\n"
     ]
    }
   ],
   "source": [
    "action = lbl_meta_node_snapshot\n",
    "start = time.time()\n",
    "\n",
    "\n",
    "with GraphDatabase.driver(URI, auth=AUTH) as driver:\n",
    "    driver.execute_query(\"match (ent:\"+lbl_entity+\") create (ins:INSTANCENODE) set ins = ent\")\n",
    "    driver.execute_query(\"match (n:INSTANCENODE) set n.timestamp = datetime('\" + \n",
    "                         datetime(1970, 1, 1, 0, 0, 0, tzinfo=pd.Timestamp.utcnow().tzinfo).strftime('%Y-%m-%dT%H:%M')+\":00.000+0100')\" # based on section 6.4 in OCEL 2.0 specification: \"specifically 1970-01-01 00:00 UTC\"\n",
    "                        )\n",
    "\n",
    "    for idx, row in ocel.object_changes.iterrows():\n",
    "        driver.execute_query(\n",
    "        \"match (n:INSTANCENODE {ID: '\"+row[ocel.object_id_column]+\"'} ) with n order by n.timestamp DESC with collect(n)[0] as n CREATE (r:INSTANCENODE2) set r=n\"\n",
    "        )\n",
    "    \n",
    "        driver.execute_query(\n",
    "        \"match (n:INSTANCENODE2) set n.timestamp = datetime('\"+str(row[ocel.event_timestamp].strftime('%Y-%m-%dT%H:%M')+':00.000+0100')+\"')\"+\n",
    "            \", n.`\" + row[ocel.changed_field] + \"`='\"+ str(row[row[ocel.changed_field]]) +\"'\"\n",
    "        )\n",
    "    \n",
    "        driver.execute_query(\n",
    "        \"match (o:INSTANCENODE2) CREATE (n:INSTANCENODE) set n=o\"\n",
    "            )\n",
    "    \n",
    "        driver.execute_query(\n",
    "        \"match (o:INSTANCENODE2) DELETE o\"\n",
    "            )\n",
    "\n",
    "    \n",
    "    driver.execute_query(\"match (n:INSTANCENODE) set n.rootID = n.ID\"\n",
    "                        )\n",
    "    driver.execute_query(\"match (n:INSTANCENODE) set n.ID = '('+n.ID+','+n.timestamp+')'\"\n",
    "                        )\n",
    "    \n",
    "    driver.execute_query(\"match (ent:INSTANCENODE) create (ins:\"+lbl_snapshot+\") set ins = ent\")\n",
    "    driver.execute_query(\"match (n:INSTANCENODE) DELETE n\")\n",
    "        \n",
    "\n",
    "end = time.time()\n",
    "print(end - start)\n",
    "meta_time[action] =  end - start"
   ]
  },
  {
   "cell_type": "markdown",
   "id": "ef29d99e-c9ac-46e5-a11b-9be58276f1ee",
   "metadata": {},
   "source": [
    "# has edges\n",
    "This section adds edges labeled \"has\" to tEKG to connect the Log node to the Event nodes."
   ]
  },
  {
   "cell_type": "code",
   "execution_count": 15,
   "id": "a65b4ea4-ce30-49d0-8433-435b66afbe40",
   "metadata": {},
   "outputs": [
    {
     "name": "stdout",
     "output_type": "stream",
     "text": [
      "0.13711047172546387\n"
     ]
    }
   ],
   "source": [
    "action = lbl_meta_rel_log_has_event\n",
    "start = time.time()\n",
    "\n",
    "with GraphDatabase.driver(URI, auth=AUTH) as driver:\n",
    "    driver.execute_query('MATCH (l:'+lbl_log+'), (e:'+lbl_event+') MERGE (l)-[:'+lbl_has+']->(e)')\n",
    "\n",
    "end = time.time()\n",
    "print(end - start)\n",
    "meta_time[action] =  end - start"
   ]
  },
  {
   "cell_type": "markdown",
   "id": "b0fdc10d-7685-4b1e-9086-d3f7ce4324f9",
   "metadata": {},
   "source": [
    "# observed edges\n",
    "This section adds edges labeled \"observed\" to tEKG to connect Event nodes to Class nodes."
   ]
  },
  {
   "cell_type": "code",
   "execution_count": 16,
   "id": "73a2681f-ed24-495d-87f8-9d7fe3b361e8",
   "metadata": {},
   "outputs": [
    {
     "name": "stdout",
     "output_type": "stream",
     "text": [
      "0.08067893981933594\n"
     ]
    }
   ],
   "source": [
    "action = lbl_meta_rel_event_observed_class\n",
    "start = time.time()\n",
    "\n",
    "with GraphDatabase.driver(URI, auth=AUTH) as driver:\n",
    "    driver.execute_query('MATCH (e:'+lbl_event+'), (c:'+lbl_class+') WHERE  e.Activity=c.ID MERGE (e)-[:'+lbl_observed+']->(c)')\n",
    "\n",
    "end = time.time()\n",
    "print(end - start)\n",
    "meta_time[action] =  end - start"
   ]
  },
  {
   "cell_type": "markdown",
   "id": "61104872-f324-4f8f-a225-a799f9a70581",
   "metadata": {},
   "source": [
    "# rel edges (Entity2Entity)\n",
    "This section adds edges labeled \"rel\" to tEKG to connect Entity nodes to Entity nodes."
   ]
  },
  {
   "cell_type": "code",
   "execution_count": 17,
   "id": "e8ebacc2-a4b9-4588-8cbe-416ce64b74fa",
   "metadata": {},
   "outputs": [
    {
     "name": "stdout",
     "output_type": "stream",
     "text": [
      "0.06569480895996094\n"
     ]
    }
   ],
   "source": [
    "# \n",
    "action = lbl_meta_rel_entity_rel_entity\n",
    "start = time.time()\n",
    "\n",
    "with GraphDatabase.driver(URI, auth=AUTH) as driver:\n",
    "    for idx,row in ocel.o2o.iterrows():\n",
    "        o1 = row[ocel.object_id_column]\n",
    "        o2 = row[ocel.object_id_column+'_2']\n",
    "        q  = row[ocel.qualifier]\n",
    "    \n",
    "        driver.execute_query(\n",
    "            \"MATCH (o1:\"+lbl_entity+\" {ID: '\"+str(o1)+\"'}), (o2:\"+lbl_entity+\" {ID: '\"+str(o2)+\"'}) MERGE (o1)-[:\"+lbl_rel +\" {qual:'\"+str(q)+\"'}]->(o2)\" \n",
    "        )\n",
    "\n",
    "end = time.time()\n",
    "print(end - start)\n",
    "meta_time[action] =  end - start"
   ]
  },
  {
   "cell_type": "markdown",
   "id": "7fd339e6-e341-4292-8848-6349d0a073be",
   "metadata": {},
   "source": [
    "# snapshot edges\n",
    "This section adds edges labeled \"snapshot\" to tEKG to connect Entity nodes to Snapshot nodes."
   ]
  },
  {
   "cell_type": "code",
   "execution_count": 18,
   "id": "8f4ed3c5-ff25-445e-8da0-110dcd399ef0",
   "metadata": {},
   "outputs": [
    {
     "name": "stdout",
     "output_type": "stream",
     "text": [
      "0.06178617477416992\n"
     ]
    }
   ],
   "source": [
    "action = lbl_meta_rel_entity_snapshot_snapshot\n",
    "start = time.time()\n",
    "\n",
    "with GraphDatabase.driver(URI, auth=AUTH) as driver:\n",
    "    driver.execute_query('MATCH (o1:'+lbl_entity+'), (o2:'+lbl_snapshot+' {rootID: o1.ID}) MERGE (o1)-[:'+lbl_snapshot+']->(o2)')\n",
    "\n",
    "end = time.time()\n",
    "print(end - start)\n",
    "meta_time[action] =  end - start"
   ]
  },
  {
   "cell_type": "markdown",
   "id": "5e31cb7a-9204-4ce9-bd08-a8e50a6f8374",
   "metadata": {},
   "source": [
    "# rel edges (update)\n",
    "This section adds edges labeled \"rel\" to tEKG to connect Snapshot nodes to Snapshot nodes. These edges show the lifecycle of an object through time, during which the value of the object's properties changed over time. "
   ]
  },
  {
   "cell_type": "code",
   "execution_count": 19,
   "id": "020dc68f-d88c-4b93-88ec-d7e779d56e3b",
   "metadata": {},
   "outputs": [
    {
     "name": "stdout",
     "output_type": "stream",
     "text": [
      "0.14839911460876465\n"
     ]
    }
   ],
   "source": [
    "action = lbl_meta_rel_snapshot_rel_update_snapshot\n",
    "start = time.time()\n",
    "\n",
    "with GraphDatabase.driver(URI, auth=AUTH) as driver:\n",
    "    driver.execute_query(\"\"+\n",
    "        \"MATCH (n:\"+lbl_entity+\")-[:\"+lbl_snapshot+\"]->(i:\"+lbl_snapshot+\") \"+\n",
    "        \"WITH n, i order by i.timestamp \"+\n",
    "        \"WITH n, collect(i) as iss, range(0, size(collect(i))-2) as issn \"+\n",
    "        \"UNWIND issn as i MATCH (a), (b) \"+\n",
    "        \"WHERE a=iss[i] and b=iss[i+1] \"+\n",
    "        \"MERGE (a)-[:\"+lbl_rel+\" {qual:'UPDATE'}]->(b)\")\n",
    "\n",
    "end = time.time()\n",
    "print(end - start)\n",
    "meta_time[action] =  end - start"
   ]
  },
  {
   "cell_type": "markdown",
   "id": "fcca4d7d-e5df-479e-8c40-af2512c7670a",
   "metadata": {},
   "source": [
    "# rel edges (Snapshot2Snapshot)\n",
    "This section adds edges labeled \"rel\" to tEKG to connect Snapshot nodes to Snapshot nodes."
   ]
  },
  {
   "cell_type": "code",
   "execution_count": 20,
   "id": "a89b0ee5-9f79-4432-bb32-add47845591c",
   "metadata": {},
   "outputs": [
    {
     "name": "stdout",
     "output_type": "stream",
     "text": [
      "0.11516880989074707\n"
     ]
    }
   ],
   "source": [
    "action = lbl_meta_rel_snapshot_rel_snapshot\n",
    "start = time.time()\n",
    "\n",
    "with GraphDatabase.driver(URI, auth=AUTH) as driver:\n",
    "    driver.execute_query(\"\"+\n",
    "            \"MATCH (e1i)<-[:\"+lbl_snapshot+\"]-(e1)-[r:\"+lbl_rel+\"]->(e2)-[:\"+lbl_snapshot+\"]->(e2i) \"+\n",
    "            \"WHERE e1i.timestamp>=e2i.timestamp \"+\n",
    "            \"WITH e1i, r.qual as qualification, e2i order by e2i.timestamp desc \"+\n",
    "            \"WITH e1i, collect(e2i)[0] as e2i, qualification \"+\n",
    "            \"MATCH (a), (b) \"+\n",
    "            \"WHERE a=e1i and b=e2i \"+\n",
    "            \"MERGE  (a)-[:\"+lbl_rel+\" {qual:qualification}]->(b) \")\n",
    "\n",
    "end = time.time()\n",
    "print(end - start)\n",
    "meta_time[action] =  end - start"
   ]
  },
  {
   "cell_type": "markdown",
   "id": "d0e8c7bb-cbd2-4f6a-9b20-53309afa8b29",
   "metadata": {},
   "source": [
    "# Entity nodes (reified)\n",
    "This section adds nodes labeled \"Entity\" to tEKG for the reified ones."
   ]
  },
  {
   "cell_type": "code",
   "execution_count": 21,
   "id": "6fd1c35c-a202-4714-9dc4-45beb2a4fb1c",
   "metadata": {},
   "outputs": [
    {
     "name": "stdout",
     "output_type": "stream",
     "text": [
      "0.05899357795715332\n"
     ]
    }
   ],
   "source": [
    "action = lbl_meta_node_entity_reified \n",
    "start = time.time()\n",
    "\n",
    "with GraphDatabase.driver(URI, auth=AUTH) as driver:\n",
    "    driver.execute_query(\n",
    "            \"MATCH (a:\"+lbl_entity+\")-[r:REL]->(b:\"+lbl_entity+\") \"+\n",
    "            \"CREATE (c:\"+lbl_entity+\":REIFIED {ID:'('+a.ID+','+b.ID+')', EntityType:'('+a.EntityType+','+b.EntityType+')', rel1:a.ID, rel2:b.ID})\"\n",
    "        )\n",
    "    \n",
    "end = time.time()\n",
    "print(end - start)\n",
    "meta_time[action] =  end - start"
   ]
  },
  {
   "cell_type": "markdown",
   "id": "cd6d9ae6-fa43-466e-a451-3e1cd084f4b7",
   "metadata": {},
   "source": [
    "# Snapshot nodes (reified)\n",
    "This section adds nodes labeled \"Snapshot\" to tEKG for the reified ones."
   ]
  },
  {
   "cell_type": "code",
   "execution_count": 22,
   "id": "4b540c49-46a4-4bef-8474-53be3c1652d1",
   "metadata": {},
   "outputs": [
    {
     "name": "stdout",
     "output_type": "stream",
     "text": [
      "0.07143712043762207\n"
     ]
    }
   ],
   "source": [
    "action = lbl_meta_node_snapshot_reified \n",
    "start = time.time()\n",
    "\n",
    "with GraphDatabase.driver(URI, auth=AUTH) as driver:\n",
    "    \n",
    "    driver.execute_query(\n",
    "            \"MATCH (a:\"+lbl_snapshot+\")-[r:REL]->(b:\"+lbl_snapshot+\") \"+\n",
    "            \"CREATE (c:\"+lbl_snapshot+\":REIFIED {ID:'('+a.ID+','+b.ID+')', EntityType:'('+a.EntityType+','+b.EntityType+')', rel1:a.ID, rel2:b.ID})\"\n",
    "        )\n",
    "    \n",
    "end = time.time()\n",
    "print(end - start)\n",
    "meta_time[action] =  end - start"
   ]
  },
  {
   "cell_type": "markdown",
   "id": "27e1ea9d-f997-42c9-bb06-1d0170a45fb7",
   "metadata": {},
   "source": [
    "# derived edges\n",
    "This section adds edges labeled \"derived\" to tEKG to connect reified nodes (either Snapshot or Entity) to their corresponding Snapshot or Entity nodes."
   ]
  },
  {
   "cell_type": "code",
   "execution_count": 23,
   "id": "ac09b92a-e172-4603-94ee-e15c7bce5990",
   "metadata": {},
   "outputs": [
    {
     "name": "stdout",
     "output_type": "stream",
     "text": [
      "0.2457294464111328\n"
     ]
    }
   ],
   "source": [
    "action = lbl_meta_rel_derived\n",
    "start = time.time()\n",
    "\n",
    "with GraphDatabase.driver(URI, auth=AUTH) as driver:    \n",
    "\n",
    "    driver.execute_query(\n",
    "            \"MATCH (a:REIFIED), (b) \"+\n",
    "            \"WHERE b.ID=a.rel1 or b.ID=a.rel2 \"+\n",
    "            \"MERGE (a)-[:\"+lbl_derived+\"]->(b)\"\n",
    "        )\n",
    "\n",
    "    driver.execute_query(\n",
    "            \"MATCH (n:REIFIED) \"+\n",
    "            \"REMOVE n.rel1, n.rel2\"\n",
    "        )\n",
    "\n",
    "    driver.execute_query(\n",
    "            \"MATCH (n:REIFIED) \"+\n",
    "            \"REMOVE n:REIFIED\"\n",
    "        )\n",
    "    \n",
    "    driver.execute_query(\n",
    "            \"MATCH (a)<-[:\"+lbl_derived+\"]-(x)-[:\"+lbl_derived+\"]->(b) \"+\n",
    "            \"WHERE a.timestamp IS NOT NULL and a.timestamp<=b.timestamp \"+ # is not null is replaced with exist() function in newer neo4j versions.\n",
    "            \"SET \"+\n",
    "            \"    x.root1ID = a.rootID, \"+\n",
    "            \"    x.root2ID = b.rootID, \"+\n",
    "            \"    x.root1timestamp = a.timestamp, \"+\n",
    "            \"    x.root2timestamp = b.timestamp\"\n",
    "        )\n",
    "    \n",
    "end = time.time()\n",
    "print(end - start)\n",
    "meta_time[action] =  end - start"
   ]
  },
  {
   "cell_type": "markdown",
   "id": "9a182e8b-f730-4a40-a853-b61e2443f43a",
   "metadata": {},
   "source": [
    "# corr edges\n",
    "This section adds edges labeled \"corr\" to tEKG. "
   ]
  },
  {
   "cell_type": "markdown",
   "id": "f70cba53-305d-4137-9fe5-ac4d9864855a",
   "metadata": {},
   "source": [
    "## corr (Entity)\n",
    "This sub-section adds edges labeled \"corr\" to tEKG to connect Event nodes to Entity nodes."
   ]
  },
  {
   "cell_type": "code",
   "execution_count": 24,
   "id": "8e0f4449-c668-47c3-98f3-2fd26b6e2752",
   "metadata": {},
   "outputs": [
    {
     "name": "stdout",
     "output_type": "stream",
     "text": [
      "0.17481541633605957\n"
     ]
    }
   ],
   "source": [
    "action = lbl_meta_rel_event_corr_entity\n",
    "start = time.time()\n",
    "\n",
    "with GraphDatabase.driver(URI, auth=AUTH) as driver:\n",
    "    for idx,row in ocel.relations.iterrows():\n",
    "        e = row[ocel.event_id_column]\n",
    "        o = row[ocel.object_id_column]\n",
    "        q  = row[ocel.qualifier]\n",
    "\n",
    "        driver.execute_query(\n",
    "            \"MATCH (e:\"+lbl_event+\" {EventID:'\" + str(e) + \"'}), (o:\"+lbl_entity+\" {ID:'\"+str(o)+\"'}) \" +\n",
    "            \"MERGE (e)-[:\"+lbl_corr+\"]->(o)\"\n",
    "        )\n",
    "\n",
    "end = time.time()\n",
    "print(end - start)\n",
    "meta_time[action] =  end - start"
   ]
  },
  {
   "cell_type": "markdown",
   "id": "94d75d4b-fe37-4e8b-b170-bdcab7402f68",
   "metadata": {},
   "source": [
    "## corr (Snapshot)\n",
    "This sub-section adds edges labeled \"corr\" to tEKG to connect Event nodes to Snapshot nodes."
   ]
  },
  {
   "cell_type": "code",
   "execution_count": 25,
   "id": "445dd1bd-04e5-41d7-8f90-4bb4bfc8585c",
   "metadata": {},
   "outputs": [
    {
     "name": "stdout",
     "output_type": "stream",
     "text": [
      "0.2141125202178955\n"
     ]
    }
   ],
   "source": [
    "action = lbl_meta_rel_event_corr_snapshot\n",
    "start = time.time()\n",
    "\n",
    "with GraphDatabase.driver(URI, auth=AUTH) as driver:\n",
    "    for idx,row in ocel.relations.iterrows():\n",
    "        e = row[ocel.event_id_column]\n",
    "        o = row[ocel.object_id_column]\n",
    "        q  = row[ocel.qualifier]\n",
    "    \n",
    "        driver.execute_query(\n",
    "            \"MATCH (e:\"+lbl_event+\" {EventID:'\" + str(e) + \"'}), (o:\"+lbl_snapshot+\" {rootID:'\"+str(o)+\"'}) \" +\n",
    "            \"WHERE e.timestamp>=o.timestamp \" + \n",
    "            \"WITH e, o order by o.timestamp desc \" + \n",
    "            \"WITH e, collect(o)[0] as o \" + \n",
    "            \"MERGE (e)-[:\"+lbl_corr+\"]->(o)\"\n",
    "        )\n",
    "\n",
    "end = time.time()\n",
    "print(end - start)\n",
    "meta_time[action] =  end - start"
   ]
  },
  {
   "cell_type": "code",
   "execution_count": 26,
   "id": "0974a1bf-6c0c-4f14-9af4-41c0423a26d9",
   "metadata": {},
   "outputs": [],
   "source": [
    "# The two following blocks can be merged in production. They are implemented separately in this experiment to enable measuring times separately. (One loop is enough)"
   ]
  },
  {
   "cell_type": "markdown",
   "id": "baaa5192-800d-4132-8b27-19a2e9bb4c4b",
   "metadata": {},
   "source": [
    "## corr (reified Entity)\n",
    "This sub-section adds edges labeled \"corr\" to tEKG to connect Event nodes to reified Entity nodes."
   ]
  },
  {
   "cell_type": "code",
   "execution_count": 27,
   "id": "1e275766-9e1b-4782-8b21-172d75d81faf",
   "metadata": {},
   "outputs": [
    {
     "name": "stdout",
     "output_type": "stream",
     "text": [
      "0.04520750045776367\n"
     ]
    }
   ],
   "source": [
    "action = lbl_meta_rel_event_corr_entity_reified\n",
    "start = time.time()\n",
    "\n",
    "with GraphDatabase.driver(URI, auth=AUTH) as driver:\n",
    "    driver.execute_query(\n",
    "            \"MATCH (e:\"+lbl_event+\")-[:\"+lbl_corr+\"]->(o:\"+lbl_entity+\") \"+\n",
    "            \"MATCH (o1)-[:\"+lbl_derived+\"]->(o) \"+\n",
    "            \"MERGE (e)-[:\"+lbl_corr+\"]->(o1) \"\n",
    "        )\n",
    "\n",
    "end = time.time()\n",
    "print(end - start)\n",
    "meta_time[action] =  end - start"
   ]
  },
  {
   "cell_type": "markdown",
   "id": "09e7383e-399c-4b60-bf3a-eed0a1164736",
   "metadata": {},
   "source": [
    "## corr (reified Snapshot)\n",
    "This sub-section adds edges labeled \"corr\" to tEKG to connect Event nodes to reified Snapshot nodes."
   ]
  },
  {
   "cell_type": "code",
   "execution_count": 28,
   "id": "322897fc-f3bc-4506-8c3b-a260ba395e40",
   "metadata": {},
   "outputs": [
    {
     "name": "stdout",
     "output_type": "stream",
     "text": [
      "0.06093311309814453\n"
     ]
    }
   ],
   "source": [
    "action = lbl_meta_rel_event_corr_snapshot_reified  \n",
    "start = time.time()\n",
    "\n",
    "with GraphDatabase.driver(URI, auth=AUTH) as driver:\n",
    "\n",
    "    driver.execute_query(\n",
    "            \"MATCH (e:\"+lbl_event+\")-[:\"+lbl_corr+\"]->(o:\"+lbl_snapshot+\") \"+\n",
    "            \"MATCH (o1)-[:\"+lbl_derived+\"]->(o) \"+\n",
    "            \"MERGE (e)-[:\"+lbl_corr+\"]->(o1) \"\n",
    "        )\n",
    "\n",
    "end = time.time()\n",
    "print(end - start)\n",
    "meta_time[action] =  end - start"
   ]
  },
  {
   "cell_type": "markdown",
   "id": "3c2c8161-5fad-474e-8dd6-8140f57ddcc7",
   "metadata": {},
   "source": [
    "# df edges\n",
    "This section adds edges labeled \"df\" to tEKG to connect Events nodes to Entity or Snapshot nodes."
   ]
  },
  {
   "cell_type": "code",
   "execution_count": 29,
   "id": "c6b71368-9aaa-492b-aa36-98f69a8cefe7",
   "metadata": {},
   "outputs": [
    {
     "name": "stdout",
     "output_type": "stream",
     "text": [
      "0.37335729598999023\n"
     ]
    }
   ],
   "source": [
    "action = lbl_meta_rel_event_df_event\n",
    "start = time.time()\n",
    "\n",
    "with GraphDatabase.driver(URI, auth=AUTH) as driver:\n",
    "    \n",
    "    driver.execute_query(\n",
    "    \"MATCH (e:\"+lbl_event+\")-[:\"+lbl_corr+\"]->(n)  \" +\n",
    "    \"WITH n, e order by e.timestamp  \" +\n",
    "    \"WITH n, collect(e) as es, range(0, size(collect(e))-2) as esn \" +\n",
    "    \"UNWIND esn as i  \" +\n",
    "    \"MATCH (a), (b)  \" +\n",
    "    \"WHERE a=es[i] and b=es[i+1]  \" +\n",
    "    \"MERGE (a)-[:\"+lbl_df+\" {EntityType:n.EntityType, EntityID:n.ID}]->(b) \"\n",
    "    )\n",
    "\n",
    "# removing parallel dfs\n",
    "\n",
    "with GraphDatabase.driver(URI, auth=AUTH) as driver:\n",
    "    driver.execute_query(\n",
    "        \"MATCH ()-[r:\"+lbl_df+\"]->() \" +\n",
    "        \"SET r.addNewKnowledge = TRUE \" \n",
    "    )\n",
    "    driver.execute_query(\n",
    "        \"MATCH (n)<-[:\"+lbl_corr+\"]-(e1:\"+lbl_event+\")-[r1:\"+lbl_df+\" {EntityID:n.ID}]->(e2:\"+lbl_event+\") \" +\n",
    "        \"MATCH (n)<-[:\"+lbl_derived+\"]-(rn)<--(e1)-[r2:\"+lbl_df+\"  {EntityID:rn.ID}]->(e2) \" +\n",
    "        \"SET r2.addNewKnowledge = FALSE \" \n",
    "    )\n",
    "    driver.execute_query(\n",
    "        \"MATCH ()-[rb:\"+lbl_df+\" {addNewKnowledge:TRUE}]->()-[r:\"+lbl_df+\"  {EntityID:rb.ID}]->()-[ra:\"+lbl_df+\"  {EntityID:r.ID, addNewKnowledge:TRUE}]->() \" +\n",
    "        \"SET r.addNewKnowledge=TRUE \" \n",
    "    )\n",
    "    driver.execute_query(\n",
    "        \"MATCH ()-[r:\"+lbl_df+\" {addNewKnowledge:FALSE}]->() \" +\n",
    "        \"DELETE r \" \n",
    "    )\n",
    "    driver.execute_query(\n",
    "        \"MATCH ()-[r:\"+lbl_df+\"]->() \" +\n",
    "        \"REMOVE  r.addNewKnowledge \" \n",
    "    )\n",
    "\n",
    "\n",
    "end = time.time()\n",
    "print(end - start)\n",
    "meta_time[action] =  end - start"
   ]
  },
  {
   "cell_type": "markdown",
   "id": "0e021eac-1c29-4e2a-a484-11ea345f76d6",
   "metadata": {},
   "source": [
    "# Exporting meta data"
   ]
  },
  {
   "cell_type": "code",
   "execution_count": 30,
   "id": "3d5aef72-410d-4f79-978a-4ccf014c6bb9",
   "metadata": {},
   "outputs": [],
   "source": [
    "import json\n",
    "\n",
    "with open(experiment_path, \"w\") as fp:\n",
    "    json.dump(meta_time, fp)  # encode dict into JSON"
   ]
  },
  {
   "cell_type": "code",
   "execution_count": null,
   "id": "29e91af8-760e-41d8-acf3-da5b95889afc",
   "metadata": {},
   "outputs": [],
   "source": []
  }
 ],
 "metadata": {
  "kernelspec": {
   "display_name": "Python 3 (ipykernel)",
   "language": "python",
   "name": "python3"
  },
  "language_info": {
   "codemirror_mode": {
    "name": "ipython",
    "version": 3
   },
   "file_extension": ".py",
   "mimetype": "text/x-python",
   "name": "python",
   "nbconvert_exporter": "python",
   "pygments_lexer": "ipython3",
   "version": "3.11.8"
  }
 },
 "nbformat": 4,
 "nbformat_minor": 5
}
