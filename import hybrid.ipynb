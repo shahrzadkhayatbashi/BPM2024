{
 "cells": [
  {
   "cell_type": "markdown",
   "id": "0c413251-f583-4c6a-b3ab-80b2136a36cf",
   "metadata": {},
   "source": [
    "# Introduction\n",
    "This notebook contains the code enabling transformation of an OCEL 2.0 log file to tEKG in live mode."
   ]
  },
  {
   "cell_type": "code",
   "execution_count": null,
   "id": "e1f904d4-6114-4103-881f-18c1a7ff6831",
   "metadata": {},
   "outputs": [],
   "source": [
    "import_path= 'shall be set to the /import directory where neo4j can import files'"
   ]
  },
  {
   "cell_type": "code",
   "execution_count": null,
   "id": "132bef27-96c1-40c5-adff-63fe001a50d4",
   "metadata": {},
   "outputs": [],
   "source": [
    "import time\n",
    "import os\n",
    "from time import gmtime, strftime"
   ]
  },
  {
   "cell_type": "code",
   "execution_count": null,
   "id": "2a94e665-9e16-4aa2-b497-87638040a734",
   "metadata": {},
   "outputs": [],
   "source": [
    "import pm4py\n",
    "import pandas as pd\n",
    "import numpy as np\n",
    "from datetime import datetime\n",
    "from itertools import product\n",
    "from neo4j import GraphDatabase"
   ]
  },
  {
   "cell_type": "markdown",
   "id": "440f084e-b93b-43fb-bacd-35b73eb04c94",
   "metadata": {},
   "source": [
    "# Setup \n",
    "This section sets the initial variables and sets the environment."
   ]
  },
  {
   "cell_type": "code",
   "execution_count": null,
   "id": "944e467a-293d-445a-b2db-b6c5e6484f7e",
   "metadata": {},
   "outputs": [],
   "source": [
    "# The notebook is set to transform the running example. \n",
    "# To transform other logs, you only need to set the log name properly using the experiment_name variable. It works if the log is in jsonocel format. \n",
    "# If your log is in another format, please refine the file_path variable. In this case, you also need to modify the pm4py.read.read_ocel2_json function in the next block to use the correct PM4Py function to read the correct format.\n",
    "\n",
    "experiment_name = 'runningExample-course'\n",
    "\n",
    "file_path = './ocel2/'+experiment_name+'.jsonocel'\n",
    "experiment_path = './experiments/hybrid_'+experiment_name+'.json'"
   ]
  },
  {
   "cell_type": "code",
   "execution_count": null,
   "id": "dce89f8e-6da3-4229-b69e-d249312a6b02",
   "metadata": {},
   "outputs": [],
   "source": [
    "# legend\n",
    "# -------------------------------------------------------------------------------------------------\n",
    "# Any number corresponds to the algorithm 1 line number in the paper\n",
    "# The section within [] is within the loop given by the number before the open bracket.\n",
    "# The section within () is within the if statement given by the number before the open parenthesis.\n",
    "\n",
    "lbl_log = 'LOG'\n",
    "lbl_class = 'CLASS'\n",
    "lbl_event = 'EVENT'\n",
    "lbl_entity =  'ENTITY'\n",
    "lbl_snapshot = 'SNAPSHOT'\n",
    "lbl_derived = 'DERIVED'\n",
    "lbl_has = 'HAS'\n",
    "lbl_observed = 'OBSERVED'\n",
    "lbl_rel = 'REL'\n",
    "lbl_corr='CORR'\n",
    "lbl_df = 'DF'\n",
    "\n",
    "lbl_meta_node_log = 'node:Log'  # lines 4-6\n",
    "lbl_meta_node_class = 'node:Class' # lines 7-9\n",
    "lbl_meta_node_event = 'node:Event' # lines 10[11-12]\n",
    "lbl_meta_node_entity = 'node:Entity' # lines 15[16-17]\n",
    "lbl_meta_node_snapshot = 'node:Snapshot' # lines 15[18,19[20-21]]\n",
    "\n",
    "# lbl_meta_node_reified = 'node:Reified' # lines 34[35-37] includes the two following\n",
    "lbl_meta_node_entity_reified = 'node:Reified_Entity' \n",
    "lbl_meta_node_snapshot_reified = 'node:Reified_Snapshot'\n",
    "\n",
    "lbl_meta_rel_log_has_event = 'rel:has' #lines 10[13]\n",
    "lbl_meta_rel_event_observed_class = 'rel:observed' #lines 10[14]\n",
    "lbl_meta_rel_entity_snapshot_snapshot = 'rel:snapshot'  # lines 15[18,19[22]]\n",
    "lbl_meta_rel_snapshot_rel_update_snapshot = 'rel:rel:SnapshotUpdate'  # lines 15[18,23[24(25)]]\n",
    "lbl_meta_rel_entity_rel_entity = 'rel:rel:Entity' # lines 27[28]\n",
    "lbl_meta_rel_snapshot_rel_snapshot = 'rel:rel:Snapshot' # lines 27[29[30,31[32(33)]]]\n",
    "\n",
    "lbl_meta_rel_derived = 'rel:derived' # lines 34[38-39]\n",
    "\n",
    "\n",
    "lbl_meta_rel_event_corr = 'rel:corr' # \n",
    "lbl_meta_rel_event_corr_entity = 'rel:corr:Entity' # lines 40[41]\n",
    "lbl_meta_rel_event_corr_entity_reified = 'rel:corr:ReifiedEntity' # lines 40[42[43]]\n",
    "\n",
    "lbl_meta_rel_event_corr_snapshot  = 'rel:corr:Snapshot' # lines 40[44,45[46(47)]]\n",
    "lbl_meta_rel_event_corr_snapshot_reified  ='rel:corr:ReifiedSnapshot' # lines 40[44,45[46(48[49])]]\n",
    "\n",
    "lbl_meta_rel_event_df_entity_event  ='rel_Event-df[entity]->Event'\n",
    "lbl_meta_rel_event_df_snapshot_event  ='rel_Event-df[snapshot]->Event'\n",
    "lbl_meta_rel_event_df_event='rel:df' # line 50"
   ]
  },
  {
   "cell_type": "code",
   "execution_count": null,
   "id": "7a8c6914-abc9-4725-b4bc-bd5b1405f1e4",
   "metadata": {},
   "outputs": [],
   "source": [
    "meta_time = {}"
   ]
  },
  {
   "cell_type": "code",
   "execution_count": null,
   "id": "404977dd-4e07-4af1-8a3d-663c563fdc3e",
   "metadata": {},
   "outputs": [],
   "source": [
    "URI  = 'bolt://localhost:7687'\n",
    "AUTH = ('neo4j', '12345678')"
   ]
  },
  {
   "cell_type": "code",
   "execution_count": null,
   "id": "55838229-8953-4168-b9aa-ce97fc95c7ef",
   "metadata": {},
   "outputs": [],
   "source": [
    "with GraphDatabase.driver(URI, auth=AUTH) as driver:\n",
    "    driver.verify_connectivity()"
   ]
  },
  {
   "cell_type": "code",
   "execution_count": null,
   "id": "4ac4dffa-fb20-4529-8340-ffd143ebeff5",
   "metadata": {},
   "outputs": [],
   "source": [
    "ocel = pm4py.read.read_ocel2_json(file_path)"
   ]
  },
  {
   "cell_type": "code",
   "execution_count": null,
   "id": "bc214da1-c99a-4c37-b187-9557422b95da",
   "metadata": {},
   "outputs": [],
   "source": [
    "## reset\n",
    "with GraphDatabase.driver(URI, auth=AUTH) as driver:\n",
    "    driver.execute_query('MATCH (a) DETACH DELETE a')"
   ]
  },
  {
   "cell_type": "markdown",
   "id": "2c29d068-cb72-4fa3-baec-9fa387c70b2a",
   "metadata": {},
   "source": [
    "# Log node\n",
    "This section adds a node to tEKG for the log."
   ]
  },
  {
   "cell_type": "code",
   "execution_count": null,
   "id": "c2d2a4ad-03a7-4fd0-9e5e-1d59d0ad0a80",
   "metadata": {},
   "outputs": [],
   "source": [
    "action = lbl_meta_node_log\n",
    "start = time.time()\n",
    "\n",
    "with GraphDatabase.driver(URI, auth=AUTH) as driver:\n",
    "    driver.execute_query('CREATE (:'+lbl_log+')')\n",
    "\n",
    "end = time.time()\n",
    "print(end - start)\n",
    "\n",
    "meta_time[action] =  end - start"
   ]
  },
  {
   "cell_type": "markdown",
   "id": "a2c3845a-fbd2-4460-be02-9513cb5abe07",
   "metadata": {},
   "source": [
    "# Class nodes\n",
    "This section adds nodes to tEKG for classes representing event types in OCEL."
   ]
  },
  {
   "cell_type": "code",
   "execution_count": null,
   "id": "e0b2693f-89b7-49a3-b088-4412ad63ed87",
   "metadata": {},
   "outputs": [],
   "source": [
    "action = lbl_meta_node_class\n",
    "start = time.time()\n",
    "\n",
    "with GraphDatabase.driver(URI, auth=AUTH) as driver:\n",
    "    for c in ocel.events[ocel.event_activity].unique():\n",
    "        driver.execute_query(\"CREATE (:\"+lbl_class+\" {ID: '\"+c+\"'})\")\n",
    "\n",
    "end = time.time()\n",
    "print(end - start)\n",
    "meta_time[action] =  end - start"
   ]
  },
  {
   "cell_type": "markdown",
   "id": "228215d5-cc5a-439b-964a-d860974b2b73",
   "metadata": {},
   "source": [
    "# Event nodes\n",
    "This section adds nodes to tEKG for events corresponding to events in OCEL."
   ]
  },
  {
   "cell_type": "code",
   "execution_count": null,
   "id": "6850495e-f4b1-48ab-a768-6cec8a6ac9f3",
   "metadata": {},
   "outputs": [],
   "source": [
    "action = lbl_meta_node_event\n",
    "start = time.time()\n",
    "\n",
    "dft = ocel.events.rename(columns={ocel.event_id_column:'EventID', ocel.event_timestamp:'timestamp', ocel.event_activity:'Activity'}).copy()\n",
    "dft.timestamp = dft.timestamp.dt.strftime('%Y-%m-%dT%H:%M:%S')+'.000+0100'\n",
    "dft.to_csv(import_path+'events.csv')\n",
    "\n",
    "cmd = \"LOAD CSV  WITH HEADERS FROM 'file:///\"+import_path+'events.csv'+\"' AS row CREATE (:\"+lbl_event+\" {EventID: row.EventID, timestamp: datetime(row.timestamp), Activity:row.Activity})\"\n",
    "\n",
    "with GraphDatabase.driver(URI, auth=AUTH) as driver:\n",
    "    driver.execute_query(cmd)\n",
    "\n",
    "\n",
    "end = time.time()\n",
    "print(end - start)\n",
    "meta_time[action] =  end - start"
   ]
  },
  {
   "cell_type": "code",
   "execution_count": null,
   "id": "47167f90-38b9-4039-8b1b-7f0825eb5684",
   "metadata": {},
   "outputs": [],
   "source": [
    "os.remove(import_path+'events.csv')"
   ]
  },
  {
   "cell_type": "code",
   "execution_count": null,
   "id": "56fe731d-b708-40f8-9ec6-61c334bd51b1",
   "metadata": {},
   "outputs": [],
   "source": [
    "cmd =   \"CREATE INDEX temp_event_processing IF NOT EXISTS FOR (n:\"+lbl_event +\") ON (n.EventID)\"\n",
    "with GraphDatabase.driver(URI, auth=AUTH) as driver:\n",
    "    driver.execute_query(cmd)\n",
    "\n",
    "cmd =   \"CREATE INDEX temp_event_time_processing IF NOT EXISTS FOR (n:\"+lbl_event +\") ON (n.timestamp)\"\n",
    "with GraphDatabase.driver(URI, auth=AUTH) as driver:\n",
    "    driver.execute_query(cmd)"
   ]
  },
  {
   "cell_type": "markdown",
   "id": "2e680bcf-c928-4363-8970-85ddfe6fb3d6",
   "metadata": {},
   "source": [
    "# Entity nodes\n",
    "This section adds nodes to tEKG for entities corresponding to objects in OCEL."
   ]
  },
  {
   "cell_type": "code",
   "execution_count": null,
   "id": "2e8fe7e9-e9c9-43d1-b9a6-1c8b595df5e4",
   "metadata": {},
   "outputs": [],
   "source": [
    "action = lbl_meta_node_entity\n",
    "start = time.time()\n",
    "\n",
    "ocel.objects.fillna('').rename(columns={ocel.object_id_column:'ID', ocel.object_type_column:'EntityType'}).to_csv(import_path+'objects.csv')\n",
    "\n",
    "cols = list(ocel.objects.columns)\n",
    "\n",
    "for i in range(len(cols)):\n",
    "    if cols[i] == str(ocel.object_id_column):\n",
    "        cols[i] = 'ID'\n",
    "    if cols[i] == str(ocel.object_type_column):\n",
    "        cols[i] = 'EntityType'\n",
    "\n",
    "cmd = \"LOAD CSV  WITH HEADERS FROM 'file:///\"+import_path+'objects.csv'+\\\n",
    "    \" ' AS row CREATE (:\"+lbl_entity+\" { \"+\\\n",
    "    ','.join(['`'+c+'`:row.`'+c+'`' for c in cols]) +\\\n",
    "    \" }) \"\n",
    "\n",
    "with GraphDatabase.driver(URI, auth=AUTH) as driver:\n",
    "    driver.execute_query(cmd)\n",
    "\n",
    "\n",
    "end = time.time()\n",
    "print(end - start)\n",
    "meta_time[action] =  end - start"
   ]
  },
  {
   "cell_type": "code",
   "execution_count": null,
   "id": "61515a6c-d228-4769-b72b-366e8cf594ca",
   "metadata": {},
   "outputs": [],
   "source": [
    "os.remove(import_path+'objects.csv')"
   ]
  },
  {
   "cell_type": "code",
   "execution_count": null,
   "id": "301b5a63-aefe-45cc-87a4-9e121a6da4d5",
   "metadata": {},
   "outputs": [],
   "source": [
    "cmd =   \"CREATE INDEX temp_entity_processing IF NOT EXISTS FOR (n:\"+lbl_entity +\") ON (n.ID)\"\n",
    "with GraphDatabase.driver(URI, auth=AUTH) as driver:\n",
    "    driver.execute_query(cmd)"
   ]
  },
  {
   "cell_type": "markdown",
   "id": "aef9055e-25ba-4534-98c8-f8325c31317b",
   "metadata": {},
   "source": [
    "# Snapshot nodes\n",
    "This section adds nodes to tEKG for snapshots that materialize OCEL objects when their value has changed."
   ]
  },
  {
   "cell_type": "code",
   "execution_count": null,
   "id": "53672867-4e1b-4204-b866-41bb8e0da601",
   "metadata": {},
   "outputs": [],
   "source": [
    "action = lbl_meta_node_snapshot\n",
    "start = time.time()\n",
    "\n",
    "dft = ocel.objects.copy()\n",
    "dft['timestamp'] = datetime(1970, 1, 1, 0, 0, 0, tzinfo=pd.Timestamp.utcnow().tzinfo)\n",
    "dft = dft.rename(columns={ocel.object_id_column: \"ID\", ocel.object_type_column: \"EntityType\"}, errors=\"raise\")\n",
    "dft2 = ocel.object_changes.rename(columns={ocel.object_id_column: \"ID\", ocel.object_type_column: \"EntityType\", ocel.event_timestamp: \"timestamp\"}, errors=\"raise\").copy()\n",
    "\n",
    "dft = pd.concat([dft, dft2]).sort_values(['ID', 'timestamp'])\n",
    "dft = dft.groupby('ID').apply(lambda group: group.ffill())\n",
    "dft = dft.drop(columns=[ocel.changed_field])\n",
    "dft['ENTITY_ID'] = dft['ID']\n",
    "dft['ID'] =  '(' + dft['ID'] + ',' + dft['timestamp'].astype('str') + ')' \n",
    "dft = dft.reset_index(drop=True)\n",
    "\n",
    "dft.timestamp = dft.timestamp.dt.strftime('%Y-%m-%dT%H:%M:%S')+'.000+0100'\n",
    "\n",
    "dft.to_csv(import_path+'snapshots.csv')\n",
    "\n",
    "cols = list(dft.columns)\n",
    "\n",
    "\n",
    "cmd = \"LOAD CSV  WITH HEADERS FROM 'file:///\"+import_path+'snapshots.csv'+\\\n",
    "    \" ' AS row CREATE (:\"+lbl_snapshot+\" { \"+\\\n",
    "    ','.join(['`'+c+'`:row.`'+c+'`' for c in cols if c!='timestamp' ]) +\\\n",
    "    \" , timestamp:datetime(row.timestamp)}) \"\n",
    "\n",
    "\n",
    "with GraphDatabase.driver(URI, auth=AUTH) as driver:\n",
    "    driver.execute_query(cmd)\n",
    "\n",
    "\n",
    "end = time.time()\n",
    "print(end - start)\n",
    "meta_time[action] =  end - start"
   ]
  },
  {
   "cell_type": "code",
   "execution_count": null,
   "id": "33dfba45-75b5-4a7f-8b22-7b9cc9cd3ce4",
   "metadata": {},
   "outputs": [],
   "source": [
    "os.remove(import_path+'snapshots.csv')"
   ]
  },
  {
   "cell_type": "code",
   "execution_count": null,
   "id": "2d842012-d31e-45c7-955d-5fcf4fc1b160",
   "metadata": {},
   "outputs": [],
   "source": [
    "# cmd =   \"CREATE INDEX temp_snapshot_processing_entity_id IF NOT EXISTS FOR (n:\"+lbl_snapshot +\") ON (n.ENTITY_ID)\"\n",
    "# with GraphDatabase.driver(URI, auth=AUTH) as driver:\n",
    "#     driver.execute_query(cmd)\n",
    "\n",
    "cmd =   \"CREATE INDEX temp_snapshot_timestamp_processing IF NOT EXISTS FOR (n:\"+lbl_snapshot +\") ON (n.timestamp)\"\n",
    "with GraphDatabase.driver(URI, auth=AUTH) as driver:\n",
    "    driver.execute_query(cmd)\n",
    "\n",
    "cmd =   \"CREATE INDEX temp_snapshot_processing IF NOT EXISTS FOR (n:\"+lbl_snapshot +\") ON (n.ID)\"\n",
    "with GraphDatabase.driver(URI, auth=AUTH) as driver:\n",
    "    driver.execute_query(cmd)"
   ]
  },
  {
   "cell_type": "markdown",
   "id": "64566c0d-c342-48de-ab52-84e5caf3efe8",
   "metadata": {},
   "source": [
    "# has edges\n",
    "This section adds edges labeled \"has\" to tEKG to connect the Log node to the Event nodes."
   ]
  },
  {
   "cell_type": "code",
   "execution_count": null,
   "id": "5d377573-9987-4e40-a800-a4049c69a1f0",
   "metadata": {},
   "outputs": [],
   "source": [
    "action = lbl_meta_rel_log_has_event\n",
    "start = time.time()\n",
    "\n",
    "with GraphDatabase.driver(URI, auth=AUTH) as driver:\n",
    "    driver.execute_query('MATCH (l:'+lbl_log+'), (e:'+lbl_event+') MERGE (l)-[:'+lbl_has+']->(e)')\n",
    "\n",
    "end = time.time()\n",
    "print(end - start)\n",
    "meta_time[action] =  end - start"
   ]
  },
  {
   "cell_type": "markdown",
   "id": "c4766f4e-1f35-4666-91c6-67cea3ed0244",
   "metadata": {},
   "source": [
    "# observed edges\n",
    "This section adds edges labeled \"observed\" to tEKG to connect Event nodes to Class nodes."
   ]
  },
  {
   "cell_type": "code",
   "execution_count": null,
   "id": "47f5f55a-060c-4805-b207-aee789bb3749",
   "metadata": {},
   "outputs": [],
   "source": [
    "action = lbl_meta_rel_event_observed_class\n",
    "start = time.time()\n",
    "\n",
    "with GraphDatabase.driver(URI, auth=AUTH) as driver:\n",
    "    driver.execute_query('MATCH (e:'+lbl_event+'), (c:'+lbl_class+') WHERE  e.Activity=c.ID MERGE (e)-[:'+lbl_observed+']->(c)')\n",
    "\n",
    "end = time.time()\n",
    "print(end - start)\n",
    "meta_time[action] =  end - start"
   ]
  },
  {
   "cell_type": "markdown",
   "id": "e365f72a-3ca0-4ef6-af56-358a75110bc4",
   "metadata": {},
   "source": [
    "# rel edges (Entity2Entity)\n",
    "This section adds edges labeled \"rel\" to tEKG to connect Entity nodes to Entity nodes."
   ]
  },
  {
   "cell_type": "code",
   "execution_count": null,
   "id": "4505096e-1ecb-4846-9db8-05cce2b29f55",
   "metadata": {},
   "outputs": [],
   "source": [
    "action = lbl_meta_rel_entity_rel_entity\n",
    "start = time.time()\n",
    "\n",
    "ocel.o2o.rename(columns={ocel.object_id_column: \"ID\", ocel.object_id_column+'_2': \"ID2\", ocel.qualifier: \"qual\"}, errors=\"raise\").to_csv(import_path+'o2o.csv')\n",
    "\n",
    "cmd = \"LOAD CSV  WITH HEADERS FROM 'file:///\"+import_path+'o2o.csv'+\\\n",
    "    \" ' AS row CREATE (:O2O { ID: row.ID, ID2: row.ID2, qual:row.qual }) \"\n",
    "with GraphDatabase.driver(URI, auth=AUTH) as driver:\n",
    "    driver.execute_query(cmd)\n",
    "\n",
    "print('O2O data is loaded - time: ', strftime(\"%a, %d %b %Y %H:%M:%S +0000\", gmtime()))\n",
    "\n",
    "cmd =   \"MATCH (o:O2O), (a:\"+lbl_entity +\"  {ID:o.ID}), (b:\"+lbl_entity +\" {ID:o.ID2}) MERGE (a)-[:\"+lbl_rel +\" {qual:o.qual}]->(b)\" \n",
    "with GraphDatabase.driver(URI, auth=AUTH) as driver:\n",
    "    driver.execute_query(cmd)\n",
    "\n",
    "\n",
    "cmd =   \"MATCH (o:O2O) DELETE o\" \n",
    "with GraphDatabase.driver(URI, auth=AUTH) as driver:\n",
    "    driver.execute_query(cmd)\n",
    "    \n",
    "end = time.time()\n",
    "print(end - start)\n",
    "meta_time[action] =  end - start"
   ]
  },
  {
   "cell_type": "code",
   "execution_count": null,
   "id": "31108346-367c-4b7c-80a5-0f549309ee8e",
   "metadata": {},
   "outputs": [],
   "source": [
    "os.remove(import_path+'o2o.csv')"
   ]
  },
  {
   "cell_type": "markdown",
   "id": "40310ee5-3207-4d13-8106-df6a391ce7f1",
   "metadata": {},
   "source": [
    "# snapshot edges\n",
    "This section adds edges labeled \"snapshot\" to tEKG to connect Entity nodes to Snapshot nodes."
   ]
  },
  {
   "cell_type": "code",
   "execution_count": null,
   "id": "60958ac7-2f00-402e-af01-6a12186f82d7",
   "metadata": {},
   "outputs": [],
   "source": [
    "action = lbl_meta_rel_entity_snapshot_snapshot\n",
    "start = time.time()\n",
    "\n",
    "with GraphDatabase.driver(URI, auth=AUTH) as driver:\n",
    "    driver.execute_query('MATCH (o1:'+lbl_entity+'), (o2:'+lbl_snapshot+' {ENTITY_ID: o1.ID}) MERGE (o1)-[:'+lbl_snapshot+']->(o2)')\n",
    "\n",
    "end = time.time()\n",
    "print(end - start)\n",
    "meta_time[action] =  end - start"
   ]
  },
  {
   "cell_type": "markdown",
   "id": "5a2c7710-9a06-4939-8f96-6e32858c78a0",
   "metadata": {},
   "source": [
    "# rel edges (update)\n",
    "This section adds edges labeled \"rel\" to tEKG to connect Snapshot nodes to Snapshot nodes. These edges show the lifecycle of an object through time, during which the value of the object's properties changed over time. "
   ]
  },
  {
   "cell_type": "code",
   "execution_count": null,
   "id": "07ba42ad-8292-4721-a84a-34ddf895f7eb",
   "metadata": {},
   "outputs": [],
   "source": [
    "action = lbl_meta_rel_snapshot_rel_update_snapshot\n",
    "start = time.time()\n",
    "\n",
    "\n",
    "with GraphDatabase.driver(URI, auth=AUTH) as driver:\n",
    "    driver.execute_query(\"\"+\n",
    "        \"MATCH (n:\"+lbl_entity+\")-[:\"+lbl_snapshot+\"]->(i:\"+lbl_snapshot+\") \"+\n",
    "        \"WITH n, i order by i.timestamp \"+\n",
    "        \"WITH n, collect(i) as iss, range(0, size(collect(i))-2) as issn \"+\n",
    "        \"UNWIND issn as i MATCH (a), (b) \"+\n",
    "        \"WHERE a=iss[i] and b=iss[i+1] \"+\n",
    "        \"MERGE (a)-[:\"+lbl_rel+\" {qual:'UPDATE'}]->(b)\")\n",
    "\n",
    "end = time.time()\n",
    "print(end - start)\n",
    "meta_time[action] =  end - start"
   ]
  },
  {
   "cell_type": "markdown",
   "id": "1d639e92-ffb8-4247-98e6-2f877170c0a5",
   "metadata": {},
   "source": [
    "# rel edges (Snapshot2Snapshot)\n",
    "This section adds edges labeled \"rel\" to tEKG to connect Snapshot nodes to Snapshot nodes."
   ]
  },
  {
   "cell_type": "code",
   "execution_count": null,
   "id": "49918492-135c-4ac3-aedb-a29f6b937f09",
   "metadata": {},
   "outputs": [],
   "source": [
    "action = lbl_meta_rel_snapshot_rel_snapshot\n",
    "start = time.time()\n",
    "\n",
    "with GraphDatabase.driver(URI, auth=AUTH) as driver:\n",
    "    driver.execute_query(\"\"+\n",
    "            \"MATCH (e1i:\"+lbl_snapshot+\")<-[:\"+lbl_snapshot+\"]-(e1:\"+lbl_entity+\")-[r:\"+lbl_rel+\"]->(e2:\"+lbl_entity+\")-[:\"+lbl_snapshot+\"]->(e2i:\"+lbl_snapshot+\") \"+\n",
    "            \"WHERE e1i.timestamp>=e2i.timestamp \"+\n",
    "            \"WITH e1i, r.qual as qualification, e2i order by e2i.timestamp desc \"+\n",
    "            \"WITH e1i, collect(e2i)[0] as e2i, qualification \"+\n",
    "            \"MATCH (a), (b) \"+\n",
    "            \"WHERE a=e1i and b=e2i \"+\n",
    "            \"MERGE  (a)-[:\"+lbl_rel+\" {qual:qualification}]->(b) \")\n",
    "\n",
    "end = time.time()\n",
    "print(end - start)\n",
    "meta_time[action] =  end - start"
   ]
  },
  {
   "cell_type": "markdown",
   "id": "523ed54f-1283-4b1e-9cf5-d0cd21b9566f",
   "metadata": {},
   "source": [
    "# Entity nodes (reified)\n",
    "This section adds nodes labeled \"Entity\" to tEKG for the reified ones."
   ]
  },
  {
   "cell_type": "code",
   "execution_count": null,
   "id": "f7dd3495-1ad1-4ed8-b62b-8a8b86810c8f",
   "metadata": {},
   "outputs": [],
   "source": [
    "action = lbl_meta_node_entity_reified \n",
    "start = time.time()\n",
    "\n",
    "with GraphDatabase.driver(URI, auth=AUTH) as driver:\n",
    "    driver.execute_query(\n",
    "            \"MATCH (a:\"+lbl_entity+\")-[r:REL]->(b:\"+lbl_entity+\") \"+\n",
    "            \"CREATE (c:\"+lbl_entity+\":REIFIED {ID:'('+a.ID+','+b.ID+')', EntityType:'('+a.EntityType+','+b.EntityType+')', rel1:id(a), rel2:id(b)})\"\n",
    "        )\n",
    "    \n",
    "end = time.time()\n",
    "print(end - start)\n",
    "meta_time[action] =  end - start"
   ]
  },
  {
   "cell_type": "markdown",
   "id": "b4970c97-b8e1-4270-a880-775b430fe20d",
   "metadata": {},
   "source": [
    "# Snapshot nodes (reified)\n",
    "This section adds nodes labeled \"Snapshot\" to tEKG for the reified ones."
   ]
  },
  {
   "cell_type": "code",
   "execution_count": null,
   "id": "1797d4c9-9440-491d-953f-608711f1b472",
   "metadata": {},
   "outputs": [],
   "source": [
    "action = lbl_meta_node_snapshot_reified \n",
    "start = time.time()\n",
    "\n",
    "with GraphDatabase.driver(URI, auth=AUTH) as driver:\n",
    "    \n",
    "    driver.execute_query(\n",
    "            \"MATCH (a:\"+lbl_snapshot+\")-[r:REL]->(b:\"+lbl_snapshot+\") \"+\n",
    "            \"CREATE (c:\"+lbl_snapshot+\":REIFIED {ID:'('+a.ID+','+b.ID+')', EntityType:'('+a.EntityType+','+b.EntityType+')', rel1:id(a), rel2:id(b)})\"\n",
    "        )\n",
    "    \n",
    "end = time.time()\n",
    "print(end - start)\n",
    "meta_time[action] =  end - start"
   ]
  },
  {
   "cell_type": "markdown",
   "id": "cccfca23-1a90-4de3-910e-a21c7b55c45d",
   "metadata": {},
   "source": [
    "# derived edges\n",
    "This section adds edges labeled \"derived\" to tEKG to connect reified nodes (either Snapshot or Entity) to their corresponding Snapshot or Entity nodes."
   ]
  },
  {
   "cell_type": "code",
   "execution_count": null,
   "id": "23fe002d-59ff-4026-aec4-e3533e64009e",
   "metadata": {},
   "outputs": [],
   "source": [
    "action = lbl_meta_rel_derived\n",
    "start = time.time()\n",
    "\n",
    "with GraphDatabase.driver(URI, auth=AUTH) as driver:\n",
    "    cmds = {\n",
    "        0: \"MATCH (b:\"+lbl_entity+\") SET b.sysid=id(b)\" ,\n",
    "        1: \"MATCH (b:\"+lbl_snapshot+\") SET b.sysid=id(b)\",\n",
    "        2: \"CREATE INDEX temp_sysidfor_entity IF NOT EXISTS FOR (n:\"+lbl_entity +\") ON (n.sysid)\",\n",
    "        3: \"CREATE INDEX temp_sysidfor_snapshot IF NOT EXISTS FOR (n:\"+lbl_snapshot +\") ON (n.sysid)\",\n",
    "    }\n",
    "    for idx, cmd in cmds.items():\n",
    "        driver.execute_query(cmd)\n",
    "        \n",
    "\n",
    "    print('prelinimaries are set - time: ', strftime(\"%a, %d %b %Y %H:%M:%S +0000\", gmtime()))\n",
    "\n",
    "    driver.execute_query(\n",
    "            \"MATCH (a:REIFIED), (b:\"+lbl_entity+\") \"+\n",
    "            \"WHERE b.sysid=a.rel1 or b.sysid=a.rel2 \"+\n",
    "            \"MERGE (a)-[:\"+lbl_derived+\"]->(b)\"\n",
    "        )\n",
    "\n",
    "    print('reified entities are updated - time: ', strftime(\"%a, %d %b %Y %H:%M:%S +0000\", gmtime()))\n",
    "    \n",
    "    driver.execute_query(\n",
    "            \"MATCH (a:REIFIED), (b:\"+lbl_snapshot+\") \"+\n",
    "            \"WHERE b.sysid=a.rel1 or b.sysid=a.rel2 \"+\n",
    "            \"MERGE (a)-[:\"+lbl_derived+\"]->(b)\"\n",
    "        )\n",
    "\n",
    "    print('reified snapshots are updated - time: ', strftime(\"%a, %d %b %Y %H:%M:%S +0000\", gmtime()))\n",
    "\n",
    "    driver.execute_query(\n",
    "            \"MATCH (n:REIFIED) \"+\n",
    "            \"REMOVE n.rel1, n.rel2\"\n",
    "        )\n",
    "\n",
    "    print('rel 1 & 2 are deleted- time: ', strftime(\"%a, %d %b %Y %H:%M:%S +0000\", gmtime()))\n",
    "\n",
    "    driver.execute_query(\n",
    "            \"MATCH (n:REIFIED) \"+\n",
    "            \"REMOVE n:REIFIED\"\n",
    "        )\n",
    "\n",
    "    print('reified nodes are deleted - time: ', strftime(\"%a, %d %b %Y %H:%M:%S +0000\", gmtime()))\n",
    "    \n",
    "    driver.execute_query(\n",
    "            \"MATCH (a)<-[:\"+lbl_derived+\"]-(x)-[:\"+lbl_derived+\"]->(b) \"+\n",
    "            \"WHERE a.timestamp IS NOT NULL and a.timestamp<=b.timestamp \"+ # is not null is replaced with exist() function in newer neo4j versions.\n",
    "            \"SET \"+\n",
    "            \"    x.root1ID = a.ENTITY_ID, \"+ #rootID\n",
    "            \"    x.root2ID = b.ENTITY_ID, \"+ #rootID\n",
    "            \"    x.root1timestamp = a.timestamp, \"+\n",
    "            \"    x.root2timestamp = b.timestamp\"\n",
    "        )\n",
    "\n",
    "    print('ready for clean up - time: ', strftime(\"%a, %d %b %Y %H:%M:%S +0000\", gmtime()))\n",
    "    \n",
    "    cmds = {\n",
    "        0: \"DROP INDEX temp_sysidfor_entity\",\n",
    "        1: \"DROP INDEX temp_sysidfor_snapshot\",\n",
    "    }\n",
    "    for idx, cmd in cmds.items():\n",
    "        driver.execute_query(cmd)\n",
    "        \n",
    "end = time.time()\n",
    "print(end - start)\n",
    "meta_time[action] =  end - start"
   ]
  },
  {
   "cell_type": "markdown",
   "id": "f4c1e1e5-0866-4037-a113-6fa09b35fa10",
   "metadata": {},
   "source": [
    "# corr edges\n",
    "This section adds edges labeled \"corr\" to tEKG. "
   ]
  },
  {
   "cell_type": "code",
   "execution_count": null,
   "id": "19fcd86a-aa15-46bb-821d-c46893ef6455",
   "metadata": {},
   "outputs": [],
   "source": [
    "action = lbl_meta_rel_event_corr\n",
    "start = time.time()\n",
    "\n",
    "ocel.relations.rename(columns={\n",
    "    ocel.event_id_column: \"EventID\",\n",
    "    ocel.event_activity:'Activity',\n",
    "    ocel.event_timestamp:'timestamp',\n",
    "    ocel.object_id_column: \"ObjectID\", \n",
    "    ocel.object_type_column:'EntityType',\n",
    "    ocel.qualifier: \"qual\"}, errors=\"raise\").to_csv(import_path+'corr.csv')\n",
    "\n",
    "cmd = \"LOAD CSV  WITH HEADERS FROM 'file:///\"+import_path+'corr.csv'+\\\n",
    "    \" ' AS row CREATE (:E2O { EventID: row.EventID, Activity: row.Activity, timestamp:row.timestamp, ObjectID:row.ObjectID , EntityType:row.EntityType }) \"\n",
    "with GraphDatabase.driver(URI, auth=AUTH) as driver:\n",
    "    driver.execute_query(cmd)\n",
    "\n",
    "print('E2O data is loaded - time: ', strftime(\"%a, %d %b %Y %H:%M:%S +0000\", gmtime()))\n",
    "    \n",
    "# corr entities\n",
    "cmd =   \"MATCH (o:E2O),(a:\"+lbl_event +\"  {EventID:o.EventID}),(b:\"+lbl_entity +\" {ID:o.ObjectID}) MERGE (a)-[:\"+lbl_corr +\"]->(b)\" \n",
    "with GraphDatabase.driver(URI, auth=AUTH) as driver:\n",
    "    driver.execute_query(cmd)\n",
    "\n",
    "print('corr for entities are loaded - time: ', strftime(\"%a, %d %b %Y %H:%M:%S +0000\", gmtime()))\n",
    "\n",
    "# corr snapshots\n",
    "cmd =   \"MATCH (o2o:E2O),(e:\"+lbl_event +\"),(o:\"+lbl_snapshot +\") \" +\\\n",
    "            \"WHERE e.timestamp>=o.timestamp AND o2o.EventID=e.EventID AND o2o.ObjectID=o.ENTITY_ID \" + \\\n",
    "            \"WITH e, o order by o.timestamp desc \" + \\\n",
    "            \"WITH e, o.EntityType as et, collect(o)[0] as o \" + \\\n",
    "            \"MERGE (e)-[:\"+lbl_corr+\"]->(o)\"\n",
    "with GraphDatabase.driver(URI, auth=AUTH) as driver:\n",
    "    driver.execute_query(cmd)\n",
    "\n",
    "print('corr for snapshots are loaded - time: ', strftime(\"%a, %d %b %Y %H:%M:%S +0000\", gmtime()))\n",
    "\n",
    "# corr reified entities\n",
    "with GraphDatabase.driver(URI, auth=AUTH) as driver:\n",
    "    driver.execute_query(\n",
    "            \"MATCH (e:\"+lbl_event+\")-[:\"+lbl_corr+\"]->(o:\"+lbl_entity+\") \"+\n",
    "            \"MATCH (o1)-[:\"+lbl_derived+\"]->(o) \"+\n",
    "            \"MERGE (e)-[:\"+lbl_corr+\"]->(o1) \"\n",
    "        )\n",
    "\n",
    "print('corr for reified entities are loaded - time: ', strftime(\"%a, %d %b %Y %H:%M:%S +0000\", gmtime()))\n",
    "\n",
    "# corr reified snapshots\n",
    "with GraphDatabase.driver(URI, auth=AUTH) as driver:\n",
    "    driver.execute_query(\n",
    "            \"MATCH (e:\"+lbl_event+\")-[:\"+lbl_corr+\"]->(o:\"+lbl_snapshot+\") \"+\n",
    "            \"MATCH (o1)-[:\"+lbl_derived+\"]->(o) \"+\n",
    "            \"MERGE (e)-[:\"+lbl_corr+\"]->(o1) \"\n",
    "        )\n",
    "\n",
    "print('corr for reified snapshots are loaded - time: ', strftime(\"%a, %d %b %Y %H:%M:%S +0000\", gmtime()))\n",
    "\n",
    "end = time.time()\n",
    "print(end - start)\n",
    "meta_time[action] =  end - start"
   ]
  },
  {
   "cell_type": "code",
   "execution_count": null,
   "id": "ad4c9f6a-fbc6-4553-b293-1a6e1920ede6",
   "metadata": {},
   "outputs": [],
   "source": [
    "cmd =   \"MATCH (o:O2O) DELETE o\" \n",
    "with GraphDatabase.driver(URI, auth=AUTH) as driver:\n",
    "    driver.execute_query(cmd)"
   ]
  },
  {
   "cell_type": "code",
   "execution_count": null,
   "id": "38f62814-daa0-4b5c-93ed-ecf27bae804b",
   "metadata": {},
   "outputs": [],
   "source": [
    "# drop temps\n",
    "cmd =   \"MATCH (o2o:E2O) DELETE o2o\"\n",
    "                \n",
    "with GraphDatabase.driver(URI, auth=AUTH) as driver:\n",
    "    driver.execute_query(cmd)"
   ]
  },
  {
   "cell_type": "code",
   "execution_count": null,
   "id": "d8e56ee1-3b61-4aab-b8e9-f0fbb6095f35",
   "metadata": {},
   "outputs": [],
   "source": [
    "os.remove(import_path+'corr.csv')"
   ]
  },
  {
   "cell_type": "markdown",
   "id": "0bb1c357-031c-455d-af30-964a2edf8eb9",
   "metadata": {},
   "source": [
    "# df edges\n",
    "This section adds edges labeled \"df\" to tEKG to connect Events nodes to Entity or Snapshot nodes."
   ]
  },
  {
   "cell_type": "code",
   "execution_count": null,
   "id": "ace3dd8e-232a-4434-846a-e5bb506d5da2",
   "metadata": {},
   "outputs": [],
   "source": [
    "action = lbl_meta_rel_event_df_event\n",
    "start = time.time()\n",
    "\n",
    "with GraphDatabase.driver(URI, auth=AUTH) as driver:\n",
    "    \n",
    "    driver.execute_query(\n",
    "    \"MATCH (e:\"+lbl_event+\")-[:\"+lbl_corr+\"]->(n)  \" +\n",
    "    \"WITH n, e order by e.timestamp  \" +\n",
    "    \"WITH n, collect(e) as es, range(0, size(collect(e))-2) as esn \" +\n",
    "    \"UNWIND esn as i  \" +\n",
    "    \"MATCH (a:\"+lbl_event+\"), (b:\"+lbl_event+\")  \" +\n",
    "    \"WHERE a=es[i] and b=es[i+1]  \" +\n",
    "    \"MERGE (a)-[:\"+lbl_df+\" {EntityType:n.EntityType, EntityID:n.ID}]->(b) \"\n",
    "    )\n",
    "\n",
    "print('df are added - time: ', strftime(\"%a, %d %b %Y %H:%M:%S +0000\", gmtime()))\n",
    "\n",
    "# removing parallel dfs\n",
    "\n",
    "with GraphDatabase.driver(URI, auth=AUTH) as driver:\n",
    "    driver.execute_query(\n",
    "        \"MATCH ()-[r:\"+lbl_df+\"]->() \" +\n",
    "        \"SET r.addNewKnowledge = TRUE \" \n",
    "    )\n",
    "    driver.execute_query(\n",
    "        \"MATCH (n)<-[:\"+lbl_corr+\"]-(e1:\"+lbl_event+\")-[r1:\"+lbl_df+\" {EntityID:n.ID}]->(e2:\"+lbl_event+\") \" +\n",
    "        \"MATCH (n)<-[:\"+lbl_derived+\"]-(rn)<--(e1)-[r2:\"+lbl_df+\"  {EntityID:rn.ID}]->(e2) \" +\n",
    "        \"SET r2.addNewKnowledge = FALSE \" \n",
    "    )\n",
    "    driver.execute_query(\n",
    "        \"MATCH ()-[rb:\"+lbl_df+\" {addNewKnowledge:TRUE}]->()-[r:\"+lbl_df+\"  {EntityID:rb.ID}]->()-[ra:\"+lbl_df+\"  {EntityID:r.ID, addNewKnowledge:TRUE}]->() \" +\n",
    "        \"SET r.addNewKnowledge=TRUE \" \n",
    "    )\n",
    "    driver.execute_query(\n",
    "        \"MATCH ()-[r:\"+lbl_df+\" {addNewKnowledge:FALSE}]->() \" +\n",
    "        \"DELETE r \" \n",
    "    )\n",
    "    driver.execute_query(\n",
    "        \"MATCH ()-[r:\"+lbl_df+\"]->() \" +\n",
    "        \"REMOVE  r.addNewKnowledge \" \n",
    "    )\n",
    "\n",
    "\n",
    "end = time.time()\n",
    "print(end - start)\n",
    "meta_time[action] =  end - start"
   ]
  },
  {
   "cell_type": "markdown",
   "id": "3d8427ee-a55c-411c-b9b7-76483d588c3a",
   "metadata": {},
   "source": [
    "# Conclude"
   ]
  },
  {
   "cell_type": "code",
   "execution_count": null,
   "id": "263781ea-b776-44bd-81a4-94ae45e9ace7",
   "metadata": {},
   "outputs": [],
   "source": [
    "cmd =   \"DROP INDEX temp_entity_processing\"\n",
    "with GraphDatabase.driver(URI, auth=AUTH) as driver:\n",
    "    driver.execute_query(cmd)\n",
    "\n",
    "cmd =   \"DROP INDEX temp_snapshot_timestamp_processing\"\n",
    "with GraphDatabase.driver(URI, auth=AUTH) as driver:\n",
    "    driver.execute_query(cmd)\n",
    "\n",
    "cmd =   \"DROP INDEX temp_snapshot_processing\"\n",
    "with GraphDatabase.driver(URI, auth=AUTH) as driver:\n",
    "    driver.execute_query(cmd)\n",
    "\n",
    "cmd =   \"DROP INDEX temp_event_processing\"\n",
    "with GraphDatabase.driver(URI, auth=AUTH) as driver:\n",
    "    driver.execute_query(cmd)\n",
    "\n",
    "cmd =   \"DROP INDEX temp_event_time_processing\"\n",
    "with GraphDatabase.driver(URI, auth=AUTH) as driver:\n",
    "    driver.execute_query(cmd)"
   ]
  },
  {
   "cell_type": "markdown",
   "id": "b1f34f6f-af7d-4473-b90d-15062323b01f",
   "metadata": {},
   "source": [
    "# Exporting meta data"
   ]
  },
  {
   "cell_type": "code",
   "execution_count": null,
   "id": "71a73593-0414-469e-a0c2-e47d7d26e701",
   "metadata": {},
   "outputs": [],
   "source": [
    "import json\n",
    "\n",
    "with open(experiment_path, \"w\") as fp:\n",
    "    json.dump(meta_time, fp)  # encode dict into JSON"
   ]
  },
  {
   "cell_type": "code",
   "execution_count": null,
   "id": "51688778-f757-49b8-9070-83e2ae5c6ad2",
   "metadata": {},
   "outputs": [],
   "source": []
  }
 ],
 "metadata": {
  "kernelspec": {
   "display_name": "Python 3 (ipykernel)",
   "language": "python",
   "name": "python3"
  },
  "language_info": {
   "codemirror_mode": {
    "name": "ipython",
    "version": 3
   },
   "file_extension": ".py",
   "mimetype": "text/x-python",
   "name": "python",
   "nbconvert_exporter": "python",
   "pygments_lexer": "ipython3",
   "version": "3.11.8"
  }
 },
 "nbformat": 4,
 "nbformat_minor": 5
}
